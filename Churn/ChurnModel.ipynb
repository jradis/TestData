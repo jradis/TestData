{
 "cells": [
  {
   "cell_type": "code",
   "execution_count": 7,
   "metadata": {},
   "outputs": [],
   "source": [
    "from sklearn.model_selection import KFold\n",
    "from sklearn.preprocessing import Imputer\n",
    "from sklearn.cross_validation import train_test_split\n",
    "from sklearn import metrics\n",
    "import pandas as pd\n",
    "import numpy as np\n",
    "import matplotlib.pyplot as plt\n",
    "%matplotlib inline\n",
    "import seaborn as sns\n",
    "from xgboost import XGBClassifier\n",
    "from sklearn.metrics import roc_auc_score"
   ]
  },
  {
   "cell_type": "code",
   "execution_count": 8,
   "metadata": {
    "collapsed": true
   },
   "outputs": [],
   "source": [
    "ds = pd.read_csv('churn.csv', index_col=0)\n",
    "ds.replace('?', np.nan, inplace=True)\n",
    "\n",
    "\n",
    "churn = pd.get_dummies(ds['Churn?'], prefix='churn', drop_first=True)\n",
    "state = pd.get_dummies(ds['State'], prefix='state', drop_first=True)\n",
    "intplan = pd.get_dummies(ds[\"Int'l Plan\"], prefix='int_plan', dummy_na=True)\n",
    "vmail = pd.get_dummies(ds['VMail Plan'], prefix='vmail_plan', dummy_na=True)\n",
    "ds['know_areaCode'] = pd.notnull(ds['Area Code'])\n",
    "\n",
    "ds.drop(['Churn?', 'State', \"Int'l Plan\", 'VMail Plan', 'Area Code','Phone'], axis=1, inplace=True)\n",
    "df = pd.concat([ds, churn, state, intplan, vmail], axis=1)"
   ]
  },
  {
   "cell_type": "code",
   "execution_count": 9,
   "metadata": {
    "collapsed": true
   },
   "outputs": [],
   "source": [
    "y = df['churn_True.']\n",
    "X = df.drop('churn_True.', axis=1)\n",
    "imp = Imputer(missing_values='NaN', strategy='median')\n",
    "X= imp.fit_transform(X)"
   ]
  },
  {
   "cell_type": "code",
   "execution_count": 10,
   "metadata": {},
   "outputs": [
    {
     "name": "stdout",
     "output_type": "stream",
     "text": [
      "0.962196219622\n"
     ]
    }
   ],
   "source": [
    "testModel = XGBClassifier()\n",
    "testModel = testModel.fit(X, y)\n",
    "print testModel.score(X,y)\n",
    "#the overall fit seems to do pretty well, now implement 10-kfolds and test AUC"
   ]
  },
  {
   "cell_type": "code",
   "execution_count": 11,
   "metadata": {},
   "outputs": [
    {
     "name": "stdout",
     "output_type": "stream",
     "text": [
      "0.908448657877\n"
     ]
    }
   ],
   "source": [
    "kf = KFold(n_splits=10, shuffle=True)\n",
    "testPreds = np.zeros_like(y, dtype=float)\n",
    "for train_set, test_set in kf.split(X):\n",
    "    model = XGBClassifier()\n",
    "    model = model.fit(X[train_set], y[train_set])\n",
    "    testPreds[test_set] = model.predict_proba(X[test_set])[:,1]   \n",
    "print roc_auc_score(y, testPreds)"
   ]
  },
  {
   "cell_type": "code",
   "execution_count": null,
   "metadata": {
    "collapsed": true
   },
   "outputs": [],
   "source": []
  }
 ],
 "metadata": {
  "kernelspec": {
   "display_name": "Python 2",
   "language": "python",
   "name": "python2"
  },
  "language_info": {
   "codemirror_mode": {
    "name": "ipython",
    "version": 2
   },
   "file_extension": ".py",
   "mimetype": "text/x-python",
   "name": "python",
   "nbconvert_exporter": "python",
   "pygments_lexer": "ipython2",
   "version": "2.7.13"
  }
 },
 "nbformat": 4,
 "nbformat_minor": 2
}
